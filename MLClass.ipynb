{
 "cells": [
  {
   "cell_type": "code",
   "execution_count": 1,
   "metadata": {},
   "outputs": [],
   "source": [
    "import pandas as pd\n",
    "import numpy as np\n",
    "import matplotlib.pyplot as plt\n",
    "\n",
    "from sklearn.preprocessing import StandardScaler\n",
    "from sklearn.model_selection import train_test_split\n",
    "\n",
    "import setuptools\n",
    "\n",
    "# Keras is a high-level neural network Python API\n",
    "# Runs on top of lower-level libraries like TensorFlow\n",
    "from keras.models import Sequential\n",
    "from keras.layers import Dense\n",
    "from keras.utils import to_categorical"
   ]
  },
  {
   "cell_type": "code",
   "execution_count": 2,
   "metadata": {},
   "outputs": [],
   "source": [
    "class MLClass:\n",
    "\n",
    "    def __init__(self, data=None, predictorVar=None, targetCol=None,\n",
    "                xTrain=None, xTest=None, yTest=None, yTrain=None):\n",
    "        self.data = data\n",
    "        self.predictorVar = predictorVar\n",
    "        self.targetCol = targetCol\n",
    "        self.xTrain = xTrain\n",
    "        self.xTest= xTest\n",
    "        self.yTest= yTest\n",
    "        self.yTrain = yTrain\n",
    "\n",
    "    \n",
    "    def exploringDataset(self):      \n",
    "        try:\n",
    "            print(\"The shape of the data is: \", self.data.shape)\n",
    "            print(\"The dataset has {} columns\".format(self.data.columns))\n",
    "            print(\"The name of the columns are: {}\\n\".foramt([x for x in self.data.columns]))\n",
    "\n",
    "        except Exception as es:\n",
    "            print(\"Data type is None, load the dataset first\")\n",
    "\n",
    "\n",
    "    def cleanData(self):\n",
    "        playType = ['Run','Pass',\"Field Goal\",'Punt']\n",
    "        self.data = self.data[self.data[\"PlayType\"].isin(playType)]\n",
    "        self.data = self.data.dropna(subset=[\"PlayType\", \"down\"])\n",
    "        self.data[\"FieldGoalDistance\"] = self.data[\"FieldGoalDistance\"].fillna(0)\n",
    "\n",
    "        predictorCols = [\"GameID\", \"Drive\", \"qtr\", \"down\", \"time\", \"yrdline100\", \"ydstogo\", \"GoalToGo\", \"PosTeamScore\", \"DefTeamScore\",\\\n",
    "                 \"FieldGoalDistance\", \"ScoreDiff\"]\n",
    "        self.__setPredictorVar(predictorCols)\n",
    "        target = \"PlayType\"\n",
    "        self.__setTargetCol(target)\n",
    "\n",
    "\n",
    "    def __setPredictorVar(self, predictorCols):\n",
    "        df = self.data[predictorCols]\n",
    "        df[\"time\"] = df[\"time\"].apply(lambda x: int(x.replace(':','')))\n",
    "        scaler = StandardScaler().set_output(transform='pandas')\n",
    "        feature_mat = scaler.fit_transform(df)\n",
    "        self.predictorVar = feature_mat\n",
    "\n",
    "    def __setTargetCol(self, targetColumn):\n",
    "        target = self.data[targetColumn]\n",
    "        target_col = target.replace({'Pass': 0, 'Run': 1, 'Punt':2, \"Field Goal\":3})\n",
    "        self.targetCol = target_col\n",
    "\n",
    "    def getPredictorVar(self):\n",
    "        return self.predictorVar\n",
    "\n",
    "    def getTargetCol(self):\n",
    "        return self.targetCol\n",
    "\n",
    "    def getTrain(self):\n",
    "        try:\n",
    "            return {\"X-Train\": self.xTrain,\n",
    "                     \"Y-Train\": self.yTrain}\n",
    "        except Exception as es:\n",
    "            print(\"The Training dataset has not been created yet\")\n",
    "\n",
    "    def getTest(self):\n",
    "        try:\n",
    "            return{\"X-Test\": self.xTest,\n",
    "                   \"Y-Test\": self.yTest}\n",
    "        except Exception as es:\n",
    "            print(\"The Testing dataset has not been created yet\")\n",
    "            \n",
    "    def loadDataset(self, filePath):\n",
    "        self.data = pd.read_csv(filePath)\n",
    "        return self.data\n",
    "\n",
    "    def trainTestDataset(self, testSize=0.10, randomState=24):\n",
    "        self.xTrain, self.xTest, self.yTrain, self.yTest = \\\n",
    "        train_test_split(self.predictorVar, self.targetCol, test_size=testSize, random_state=randomState)\n",
    "\n",
    "        print(\"X_train:\", self.xTrain.shape); print(\"X_test:\", self.xTest.shape); print(\"y_train:\", self.yTrain.shape); print(\"y_test:\", self.yTest.shape)\n"
   ]
  },
  {
   "cell_type": "code",
   "execution_count": 3,
   "metadata": {},
   "outputs": [],
   "source": [
    "class CNNClass(MLClass):\n",
    "\n",
    "    def __init__(self, model=None, data=None, predictorVar=None, targetCol=None, \n",
    "                 xTrain=None, xTest=None, yTest=None, yTrain=None):\n",
    "        \n",
    "        self.model = model\n",
    "\n",
    "        super().__init__(data, predictorVar, targetCol,\n",
    "                xTrain, xTest, yTest, yTrain)\n",
    "        \n",
    "        \n",
    "    def createCnnModel(self, featuresNum=None, outputDim=None):\n",
    "        self.model = Sequential()\n",
    "        self.model.add(Dense(128, activation='relu', input_dim=featuresNum)) \n",
    "        self.model.add(Dense(64, activation='relu')) \n",
    "        self.model.add(Dense(32, activation='relu'))\n",
    "        self.model.add(Dense(16, activation='relu'))\n",
    "        self.model.add(Dense(outputDim))\n",
    "\n",
    "        self.__compileModel()\n",
    "        self.__getModelSummary()\n",
    "\n",
    "\n",
    "    def __compileModel(self):\n",
    "        self.model.compile(optimizer='adam',\n",
    "                           loss='mean_squared_error',\n",
    "                           metrics=['accuracy'])\n",
    "\n",
    "    def __getModelSummary(self):\n",
    "        self.model.summary()\n",
    "\n",
    "    \n",
    "    def trainModel(self, numEpochs=1):\n",
    "        train = self.getTrain()\n",
    "        self.model.fit(train[\"X-Train\"], train[\"Y-Train\"], epochs= numEpochs)\n",
    "\n",
    "    \n",
    "    def trainDataEvaluate(self):\n",
    "        train = self.getTrain()\n",
    "        loss, accuracy = self.model.evaluate(train[\"X-Train\"],\n",
    "                                             train[\"Y-Train\"])\n",
    "\n",
    "        print(f\"Training Loss: {loss}\")\n",
    "        print(f\"Training Accuracy: {accuracy}\")\n",
    "\n",
    "    def testDataEvaluate(self):\n",
    "        test = self.getTest()\n",
    "        loss, accuracy = self.model.evaluate(test[\"X-Test\"],\n",
    "                                             test[\"Y-Test\"])\n",
    "        \n",
    "        print(f\"Testing Loss: {loss}\")\n",
    "        print(f\"Testing Accuracy: {accuracy}\")\n",
    "\n",
    "    def performanceMeasure(self):\n",
    "        train = self.getTrain()\n",
    "        test = self.getTest()\n",
    "\n",
    "        x_train = train[\"X-Train\"]\n",
    "        y_train = train[\"Y-Train\"]\n",
    "        x_test = test[\"X-Test\"]\n",
    "        y_test = test[\"Y-Test\"]\n",
    "\n",
    "        history = self.model.fit(x_train, y_train, validation_data=(x_test, y_test))\n",
    "        history_dict = history.history\n",
    "\n",
    "        plt.plot(history_dict['accuracy'], label='accuracy')\n",
    "        plt.plot(history_dict['val_accuracy'], label='val_accuracy')\n",
    "        plt.xlabel('Epoch')\n",
    "        plt.ylabel('Accuracy')\n",
    "        plt.ylim([0, 1])\n",
    "        plt.legend(loc='lower right')"
   ]
  },
  {
   "cell_type": "markdown",
   "metadata": {},
   "source": [
    "#Testing"
   ]
  },
  {
   "cell_type": "code",
   "execution_count": 4,
   "metadata": {},
   "outputs": [
    {
     "name": "stderr",
     "output_type": "stream",
     "text": [
      "/var/folders/q_/jngx2c4j3d57vcn5b3qsyqcw0000gn/T/ipykernel_27523/2584321588.py:70: DtypeWarning: Columns (26) have mixed types. Specify dtype option on import or set low_memory=False.\n",
      "  self.data = pd.read_csv(filePath)\n",
      "/var/folders/q_/jngx2c4j3d57vcn5b3qsyqcw0000gn/T/ipykernel_27523/2584321588.py:39: SettingWithCopyWarning: \n",
      "A value is trying to be set on a copy of a slice from a DataFrame.\n",
      "Try using .loc[row_indexer,col_indexer] = value instead\n",
      "\n",
      "See the caveats in the documentation: https://pandas.pydata.org/pandas-docs/stable/user_guide/indexing.html#returning-a-view-versus-a-copy\n",
      "  df[\"time\"] = df[\"time\"].apply(lambda x: int(x.replace(':','')))\n",
      "/var/folders/q_/jngx2c4j3d57vcn5b3qsyqcw0000gn/T/ipykernel_27523/2584321588.py:46: FutureWarning: Downcasting behavior in `replace` is deprecated and will be removed in a future version. To retain the old behavior, explicitly call `result.infer_objects(copy=False)`. To opt-in to the future behavior, set `pd.set_option('future.no_silent_downcasting', True)`\n",
      "  target_col = target.replace({'Pass': 0, 'Run': 1, 'Punt':2, \"Field Goal\":3})\n"
     ]
    }
   ],
   "source": [
    "cnnModel = CNNClass()\n",
    "data = cnnModel.loadDataset('/Users/gauravkharel/Documents/BoozAllen/Data Science/Capstone/NFLPlaybyPlay2015.csv')\n",
    "cnnModel.cleanData()"
   ]
  },
  {
   "cell_type": "code",
   "execution_count": 5,
   "metadata": {},
   "outputs": [
    {
     "name": "stdout",
     "output_type": "stream",
     "text": [
      "X_train: (31279, 12)\n",
      "X_test: (3476, 12)\n",
      "y_train: (31279,)\n",
      "y_test: (3476,)\n"
     ]
    },
    {
     "name": "stderr",
     "output_type": "stream",
     "text": [
      "/Users/gauravkharel/Documents/BoozAllen/Data Science/Capstone/sklearn-env/lib/python3.12/site-packages/keras/src/layers/core/dense.py:87: UserWarning: Do not pass an `input_shape`/`input_dim` argument to a layer. When using Sequential models, prefer using an `Input(shape)` object as the first layer in the model instead.\n",
      "  super().__init__(activity_regularizer=activity_regularizer, **kwargs)\n"
     ]
    },
    {
     "data": {
      "text/html": [
       "<pre style=\"white-space:pre;overflow-x:auto;line-height:normal;font-family:Menlo,'DejaVu Sans Mono',consolas,'Courier New',monospace\"><span style=\"font-weight: bold\">Model: \"sequential\"</span>\n",
       "</pre>\n"
      ],
      "text/plain": [
       "\u001b[1mModel: \"sequential\"\u001b[0m\n"
      ]
     },
     "metadata": {},
     "output_type": "display_data"
    },
    {
     "data": {
      "text/html": [
       "<pre style=\"white-space:pre;overflow-x:auto;line-height:normal;font-family:Menlo,'DejaVu Sans Mono',consolas,'Courier New',monospace\">┏━━━━━━━━━━━━━━━━━━━━━━━━━━━━━━━━━┳━━━━━━━━━━━━━━━━━━━━━━━━┳━━━━━━━━━━━━━━━┓\n",
       "┃<span style=\"font-weight: bold\"> Layer (type)                    </span>┃<span style=\"font-weight: bold\"> Output Shape           </span>┃<span style=\"font-weight: bold\">       Param # </span>┃\n",
       "┡━━━━━━━━━━━━━━━━━━━━━━━━━━━━━━━━━╇━━━━━━━━━━━━━━━━━━━━━━━━╇━━━━━━━━━━━━━━━┩\n",
       "│ dense (<span style=\"color: #0087ff; text-decoration-color: #0087ff\">Dense</span>)                   │ (<span style=\"color: #00d7ff; text-decoration-color: #00d7ff\">None</span>, <span style=\"color: #00af00; text-decoration-color: #00af00\">128</span>)            │         <span style=\"color: #00af00; text-decoration-color: #00af00\">1,664</span> │\n",
       "├─────────────────────────────────┼────────────────────────┼───────────────┤\n",
       "│ dense_1 (<span style=\"color: #0087ff; text-decoration-color: #0087ff\">Dense</span>)                 │ (<span style=\"color: #00d7ff; text-decoration-color: #00d7ff\">None</span>, <span style=\"color: #00af00; text-decoration-color: #00af00\">64</span>)             │         <span style=\"color: #00af00; text-decoration-color: #00af00\">8,256</span> │\n",
       "├─────────────────────────────────┼────────────────────────┼───────────────┤\n",
       "│ dense_2 (<span style=\"color: #0087ff; text-decoration-color: #0087ff\">Dense</span>)                 │ (<span style=\"color: #00d7ff; text-decoration-color: #00d7ff\">None</span>, <span style=\"color: #00af00; text-decoration-color: #00af00\">32</span>)             │         <span style=\"color: #00af00; text-decoration-color: #00af00\">2,080</span> │\n",
       "├─────────────────────────────────┼────────────────────────┼───────────────┤\n",
       "│ dense_3 (<span style=\"color: #0087ff; text-decoration-color: #0087ff\">Dense</span>)                 │ (<span style=\"color: #00d7ff; text-decoration-color: #00d7ff\">None</span>, <span style=\"color: #00af00; text-decoration-color: #00af00\">16</span>)             │           <span style=\"color: #00af00; text-decoration-color: #00af00\">528</span> │\n",
       "├─────────────────────────────────┼────────────────────────┼───────────────┤\n",
       "│ dense_4 (<span style=\"color: #0087ff; text-decoration-color: #0087ff\">Dense</span>)                 │ (<span style=\"color: #00d7ff; text-decoration-color: #00d7ff\">None</span>, <span style=\"color: #00af00; text-decoration-color: #00af00\">5</span>)              │            <span style=\"color: #00af00; text-decoration-color: #00af00\">85</span> │\n",
       "└─────────────────────────────────┴────────────────────────┴───────────────┘\n",
       "</pre>\n"
      ],
      "text/plain": [
       "┏━━━━━━━━━━━━━━━━━━━━━━━━━━━━━━━━━┳━━━━━━━━━━━━━━━━━━━━━━━━┳━━━━━━━━━━━━━━━┓\n",
       "┃\u001b[1m \u001b[0m\u001b[1mLayer (type)                   \u001b[0m\u001b[1m \u001b[0m┃\u001b[1m \u001b[0m\u001b[1mOutput Shape          \u001b[0m\u001b[1m \u001b[0m┃\u001b[1m \u001b[0m\u001b[1m      Param #\u001b[0m\u001b[1m \u001b[0m┃\n",
       "┡━━━━━━━━━━━━━━━━━━━━━━━━━━━━━━━━━╇━━━━━━━━━━━━━━━━━━━━━━━━╇━━━━━━━━━━━━━━━┩\n",
       "│ dense (\u001b[38;5;33mDense\u001b[0m)                   │ (\u001b[38;5;45mNone\u001b[0m, \u001b[38;5;34m128\u001b[0m)            │         \u001b[38;5;34m1,664\u001b[0m │\n",
       "├─────────────────────────────────┼────────────────────────┼───────────────┤\n",
       "│ dense_1 (\u001b[38;5;33mDense\u001b[0m)                 │ (\u001b[38;5;45mNone\u001b[0m, \u001b[38;5;34m64\u001b[0m)             │         \u001b[38;5;34m8,256\u001b[0m │\n",
       "├─────────────────────────────────┼────────────────────────┼───────────────┤\n",
       "│ dense_2 (\u001b[38;5;33mDense\u001b[0m)                 │ (\u001b[38;5;45mNone\u001b[0m, \u001b[38;5;34m32\u001b[0m)             │         \u001b[38;5;34m2,080\u001b[0m │\n",
       "├─────────────────────────────────┼────────────────────────┼───────────────┤\n",
       "│ dense_3 (\u001b[38;5;33mDense\u001b[0m)                 │ (\u001b[38;5;45mNone\u001b[0m, \u001b[38;5;34m16\u001b[0m)             │           \u001b[38;5;34m528\u001b[0m │\n",
       "├─────────────────────────────────┼────────────────────────┼───────────────┤\n",
       "│ dense_4 (\u001b[38;5;33mDense\u001b[0m)                 │ (\u001b[38;5;45mNone\u001b[0m, \u001b[38;5;34m5\u001b[0m)              │            \u001b[38;5;34m85\u001b[0m │\n",
       "└─────────────────────────────────┴────────────────────────┴───────────────┘\n"
      ]
     },
     "metadata": {},
     "output_type": "display_data"
    },
    {
     "data": {
      "text/html": [
       "<pre style=\"white-space:pre;overflow-x:auto;line-height:normal;font-family:Menlo,'DejaVu Sans Mono',consolas,'Courier New',monospace\"><span style=\"font-weight: bold\"> Total params: </span><span style=\"color: #00af00; text-decoration-color: #00af00\">12,613</span> (49.27 KB)\n",
       "</pre>\n"
      ],
      "text/plain": [
       "\u001b[1m Total params: \u001b[0m\u001b[38;5;34m12,613\u001b[0m (49.27 KB)\n"
      ]
     },
     "metadata": {},
     "output_type": "display_data"
    },
    {
     "data": {
      "text/html": [
       "<pre style=\"white-space:pre;overflow-x:auto;line-height:normal;font-family:Menlo,'DejaVu Sans Mono',consolas,'Courier New',monospace\"><span style=\"font-weight: bold\"> Trainable params: </span><span style=\"color: #00af00; text-decoration-color: #00af00\">12,613</span> (49.27 KB)\n",
       "</pre>\n"
      ],
      "text/plain": [
       "\u001b[1m Trainable params: \u001b[0m\u001b[38;5;34m12,613\u001b[0m (49.27 KB)\n"
      ]
     },
     "metadata": {},
     "output_type": "display_data"
    },
    {
     "data": {
      "text/html": [
       "<pre style=\"white-space:pre;overflow-x:auto;line-height:normal;font-family:Menlo,'DejaVu Sans Mono',consolas,'Courier New',monospace\"><span style=\"font-weight: bold\"> Non-trainable params: </span><span style=\"color: #00af00; text-decoration-color: #00af00\">0</span> (0.00 B)\n",
       "</pre>\n"
      ],
      "text/plain": [
       "\u001b[1m Non-trainable params: \u001b[0m\u001b[38;5;34m0\u001b[0m (0.00 B)\n"
      ]
     },
     "metadata": {},
     "output_type": "display_data"
    }
   ],
   "source": [
    "cnnModel.trainTestDataset()\n",
    "cnnModel.createCnnModel(12, 5)"
   ]
  },
  {
   "cell_type": "code",
   "execution_count": 6,
   "metadata": {},
   "outputs": [
    {
     "name": "stdout",
     "output_type": "stream",
     "text": [
      "Epoch 1/10\n",
      "\u001b[1m978/978\u001b[0m \u001b[32m━━━━━━━━━━━━━━━━━━━━\u001b[0m\u001b[37m\u001b[0m \u001b[1m1s\u001b[0m 312us/step - accuracy: 0.1342 - loss: 0.3370\n",
      "Epoch 2/10\n",
      "\u001b[1m978/978\u001b[0m \u001b[32m━━━━━━━━━━━━━━━━━━━━\u001b[0m\u001b[37m\u001b[0m \u001b[1m0s\u001b[0m 305us/step - accuracy: 0.1776 - loss: 0.2004\n",
      "Epoch 3/10\n",
      "\u001b[1m978/978\u001b[0m \u001b[32m━━━━━━━━━━━━━━━━━━━━\u001b[0m\u001b[37m\u001b[0m \u001b[1m0s\u001b[0m 309us/step - accuracy: 0.1576 - loss: 0.1977\n",
      "Epoch 4/10\n",
      "\u001b[1m978/978\u001b[0m \u001b[32m━━━━━━━━━━━━━━━━━━━━\u001b[0m\u001b[37m\u001b[0m \u001b[1m0s\u001b[0m 299us/step - accuracy: 0.1596 - loss: 0.1954\n",
      "Epoch 5/10\n",
      "\u001b[1m978/978\u001b[0m \u001b[32m━━━━━━━━━━━━━━━━━━━━\u001b[0m\u001b[37m\u001b[0m \u001b[1m0s\u001b[0m 302us/step - accuracy: 0.1538 - loss: 0.1907\n",
      "Epoch 6/10\n",
      "\u001b[1m978/978\u001b[0m \u001b[32m━━━━━━━━━━━━━━━━━━━━\u001b[0m\u001b[37m\u001b[0m \u001b[1m0s\u001b[0m 304us/step - accuracy: 0.1529 - loss: 0.1890\n",
      "Epoch 7/10\n",
      "\u001b[1m978/978\u001b[0m \u001b[32m━━━━━━━━━━━━━━━━━━━━\u001b[0m\u001b[37m\u001b[0m \u001b[1m0s\u001b[0m 302us/step - accuracy: 0.1535 - loss: 0.1888\n",
      "Epoch 8/10\n",
      "\u001b[1m978/978\u001b[0m \u001b[32m━━━━━━━━━━━━━━━━━━━━\u001b[0m\u001b[37m\u001b[0m \u001b[1m0s\u001b[0m 301us/step - accuracy: 0.1529 - loss: 0.1876\n",
      "Epoch 9/10\n",
      "\u001b[1m978/978\u001b[0m \u001b[32m━━━━━━━━━━━━━━━━━━━━\u001b[0m\u001b[37m\u001b[0m \u001b[1m0s\u001b[0m 302us/step - accuracy: 0.1598 - loss: 0.1856\n",
      "Epoch 10/10\n",
      "\u001b[1m978/978\u001b[0m \u001b[32m━━━━━━━━━━━━━━━━━━━━\u001b[0m\u001b[37m\u001b[0m \u001b[1m0s\u001b[0m 303us/step - accuracy: 0.1537 - loss: 0.1874\n"
     ]
    }
   ],
   "source": [
    "cnnModel.trainModel(numEpochs=10)"
   ]
  },
  {
   "cell_type": "code",
   "execution_count": 7,
   "metadata": {},
   "outputs": [
    {
     "name": "stdout",
     "output_type": "stream",
     "text": [
      "\u001b[1m978/978\u001b[0m \u001b[32m━━━━━━━━━━━━━━━━━━━━\u001b[0m\u001b[37m\u001b[0m \u001b[1m0s\u001b[0m 405us/step - accuracy: 0.1529 - loss: 0.1861 - val_accuracy: 0.1887 - val_loss: 0.1881\n"
     ]
    },
    {
     "ename": "TypeError",
     "evalue": "'History' object is not subscriptable",
     "output_type": "error",
     "traceback": [
      "\u001b[0;31m---------------------------------------------------------------------------\u001b[0m",
      "\u001b[0;31mTypeError\u001b[0m                                 Traceback (most recent call last)",
      "Cell \u001b[0;32mIn[7], line 1\u001b[0m\n\u001b[0;32m----> 1\u001b[0m \u001b[43mcnnModel\u001b[49m\u001b[38;5;241;43m.\u001b[39;49m\u001b[43mperformanceMeasure\u001b[49m\u001b[43m(\u001b[49m\u001b[43m)\u001b[49m\n",
      "Cell \u001b[0;32mIn[3], line 64\u001b[0m, in \u001b[0;36mCNNClass.performanceMeasure\u001b[0;34m(self)\u001b[0m\n\u001b[1;32m     61\u001b[0m y_test \u001b[38;5;241m=\u001b[39m test[\u001b[38;5;124m\"\u001b[39m\u001b[38;5;124mY-Test\u001b[39m\u001b[38;5;124m\"\u001b[39m]\n\u001b[1;32m     63\u001b[0m history \u001b[38;5;241m=\u001b[39m \u001b[38;5;28mself\u001b[39m\u001b[38;5;241m.\u001b[39mmodel\u001b[38;5;241m.\u001b[39mfit(x_train, y_train, validation_data\u001b[38;5;241m=\u001b[39m(x_test, y_test))\n\u001b[0;32m---> 64\u001b[0m plt\u001b[38;5;241m.\u001b[39mplot(\u001b[43mhistory\u001b[49m\u001b[43m[\u001b[49m\u001b[38;5;124;43m'\u001b[39;49m\u001b[38;5;124;43maccuracy\u001b[39;49m\u001b[38;5;124;43m'\u001b[39;49m\u001b[43m]\u001b[49m, label\u001b[38;5;241m=\u001b[39m\u001b[38;5;124m'\u001b[39m\u001b[38;5;124maccuracy\u001b[39m\u001b[38;5;124m'\u001b[39m)\n\u001b[1;32m     65\u001b[0m plt\u001b[38;5;241m.\u001b[39mplot(history[\u001b[38;5;124m'\u001b[39m\u001b[38;5;124mval_accuracy\u001b[39m\u001b[38;5;124m'\u001b[39m], label\u001b[38;5;241m=\u001b[39m\u001b[38;5;124m'\u001b[39m\u001b[38;5;124mval_accuracy\u001b[39m\u001b[38;5;124m'\u001b[39m)\n\u001b[1;32m     66\u001b[0m plt\u001b[38;5;241m.\u001b[39mxlabel(\u001b[38;5;124m'\u001b[39m\u001b[38;5;124mEpoch\u001b[39m\u001b[38;5;124m'\u001b[39m)\n",
      "\u001b[0;31mTypeError\u001b[0m: 'History' object is not subscriptable"
     ]
    }
   ],
   "source": [
    "cnnModel.performanceMeasure()"
   ]
  }
 ],
 "metadata": {
  "kernelspec": {
   "display_name": "sklearn-env",
   "language": "python",
   "name": "python3"
  },
  "language_info": {
   "codemirror_mode": {
    "name": "ipython",
    "version": 3
   },
   "file_extension": ".py",
   "mimetype": "text/x-python",
   "name": "python",
   "nbconvert_exporter": "python",
   "pygments_lexer": "ipython3",
   "version": "3.12.2"
  }
 },
 "nbformat": 4,
 "nbformat_minor": 2
}
