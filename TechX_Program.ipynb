{
  "cells": [
    {
      "cell_type": "code",
      "execution_count": 1,
      "metadata": {
        "id": "XltTgStjriRi"
      },
      "outputs": [],
      "source": [
        "import pandas as pd\n",
        "import numpy as np\n",
        "import matplotlib.pyplot as plt\n",
        "\n",
        "from sklearn.preprocessing import StandardScaler\n",
        "from sklearn.model_selection import train_test_split\n",
        "\n",
        "import setuptools\n",
        "\n",
        "# Keras is a high-level neural network Python API\n",
        "# Runs on top of lower-level libraries like TensorFlow\n",
        "from keras.models import Sequential\n",
        "from keras.layers import Dense\n",
        "from keras.utils import to_categorical"
      ]
    },
    {
      "cell_type": "markdown",
      "metadata": {
        "id": "c9HWS6FR0iIY"
      },
      "source": [
        "# Loading the Dataset"
      ]
    },
    {
      "cell_type": "code",
      "execution_count": 2,
      "metadata": {
        "id": "lg8d7s7h1HxB"
      },
      "outputs": [
        {
          "name": "stderr",
          "output_type": "stream",
          "text": [
            "/var/folders/q_/jngx2c4j3d57vcn5b3qsyqcw0000gn/T/ipykernel_25464/3281832509.py:1: DtypeWarning: Columns (26) have mixed types. Specify dtype option on import or set low_memory=False.\n",
            "  data = pd.read_csv(\"/Users/gauravkharel/Documents/BoozAllen/Data Science/Capstone/NFLPlaybyPlay2015.csv\")\n"
          ]
        }
      ],
      "source": [
        "data = pd.read_csv(\"/Users/gauravkharel/Documents/BoozAllen/Data Science/Capstone/NFLPlaybyPlay2015.csv\")"
      ]
    },
    {
      "cell_type": "markdown",
      "metadata": {
        "id": "qvuVUlHH2NIB"
      },
      "source": [
        "#Exploring the Dataset"
      ]
    },
    {
      "cell_type": "code",
      "execution_count": 3,
      "metadata": {
        "id": "e4ctc_6p2SxF"
      },
      "outputs": [
        {
          "data": {
            "text/plain": [
              "(46129, 66)"
            ]
          },
          "execution_count": 3,
          "metadata": {},
          "output_type": "execute_result"
        }
      ],
      "source": [
        "data.shape"
      ]
    },
    {
      "cell_type": "markdown",
      "metadata": {
        "id": "9h0q_jXM9vbN"
      },
      "source": [
        "Predictor: GameID, Drive, qtr, down, time (game clock), yrdline100, ydstogo, GoalToGo, passer, rusher, receiver, PosTeamScore, DefTeamScore, posteam, DefensiveTeam, FieldGoalDistance,ScoreDiff\n",
        "\n",
        "targetColumn = PlayType (Run, Pass, Field Goal, Punt)"
      ]
    },
    {
      "cell_type": "code",
      "execution_count": 4,
      "metadata": {
        "id": "HNTkdNHI8sgo"
      },
      "outputs": [
        {
          "data": {
            "text/plain": [
              "Index(['Unnamed: 0', 'Date', 'GameID', 'Drive', 'qtr', 'down', 'time',\n",
              "       'TimeUnder', 'TimeSecs', 'PlayTimeDiff', 'SideofField', 'yrdln',\n",
              "       'yrdline100', 'ydstogo', 'ydsnet', 'GoalToGo', 'FirstDown', 'posteam',\n",
              "       'DefensiveTeam', 'desc', 'PlayAttempted', 'Yards.Gained', 'sp',\n",
              "       'Touchdown', 'ExPointResult', 'TwoPointConv', 'DefTwoPoint', 'Safety',\n",
              "       'PuntResult', 'PlayType', 'Passer', 'PassAttempt', 'PassOutcome',\n",
              "       'PassLength', 'PassLocation', 'InterceptionThrown', 'Interceptor',\n",
              "       'Rusher', 'RushAttempt', 'RunLocation', 'RunGap', 'Receiver',\n",
              "       'Reception', 'ReturnResult', 'Returner', 'BlockingPlayer', 'Tackler1',\n",
              "       'Tackler2', 'FieldGoalResult', 'FieldGoalDistance', 'Fumble',\n",
              "       'RecFumbTeam', 'RecFumbPlayer', 'Sack', 'Challenge.Replay',\n",
              "       'ChalReplayResult', 'Accepted.Penalty', 'PenalizedTeam', 'PenaltyType',\n",
              "       'PenalizedPlayer', 'Penalty.Yards', 'PosTeamScore', 'DefTeamScore',\n",
              "       'ScoreDiff', 'AbsScoreDiff', 'Season'],\n",
              "      dtype='object')"
            ]
          },
          "execution_count": 4,
          "metadata": {},
          "output_type": "execute_result"
        }
      ],
      "source": [
        "data.columns"
      ]
    },
    {
      "cell_type": "code",
      "execution_count": 5,
      "metadata": {
        "id": "_wy2lsERnuh9"
      },
      "outputs": [],
      "source": [
        "playType = ['Run','Pass',\"Field Goal\",'Punt']\n",
        "data = data[data[\"PlayType\"].isin(playType)]\n",
        "data = data.dropna(subset=[\"PlayType\", \"down\"])\n",
        "data[\"FieldGoalDistance\"] = data[\"FieldGoalDistance\"].fillna(0)"
      ]
    },
    {
      "cell_type": "code",
      "execution_count": 6,
      "metadata": {
        "id": "tf07uLv12oTL"
      },
      "outputs": [],
      "source": [
        "predictorCols = [\"GameID\", \"Drive\", \"qtr\", \"down\", \"time\", \"yrdline100\", \"ydstogo\", \"GoalToGo\", \"PosTeamScore\", \"DefTeamScore\",\\\n",
        "                 \"FieldGoalDistance\", \"ScoreDiff\"]\n",
        "df = data[predictorCols]"
      ]
    },
    {
      "cell_type": "code",
      "execution_count": 7,
      "metadata": {
        "id": "PbTa9GvyqzAn"
      },
      "outputs": [
        {
          "name": "stderr",
          "output_type": "stream",
          "text": [
            "/var/folders/q_/jngx2c4j3d57vcn5b3qsyqcw0000gn/T/ipykernel_25464/4034042521.py:1: SettingWithCopyWarning: \n",
            "A value is trying to be set on a copy of a slice from a DataFrame.\n",
            "Try using .loc[row_indexer,col_indexer] = value instead\n",
            "\n",
            "See the caveats in the documentation: https://pandas.pydata.org/pandas-docs/stable/user_guide/indexing.html#returning-a-view-versus-a-copy\n",
            "  df[\"time\"] = df[\"time\"].apply(lambda x: int(x.replace(':','')))\n"
          ]
        }
      ],
      "source": [
        "df[\"time\"] = df[\"time\"].apply(lambda x: int(x.replace(':','')))"
      ]
    },
    {
      "cell_type": "code",
      "execution_count": 8,
      "metadata": {
        "id": "4zBOm0MTkIFX"
      },
      "outputs": [
        {
          "data": {
            "text/plain": [
              "Index(['GameID', 'Drive', 'qtr', 'down', 'time', 'yrdline100', 'ydstogo',\n",
              "       'GoalToGo', 'PosTeamScore', 'DefTeamScore', 'FieldGoalDistance',\n",
              "       'ScoreDiff'],\n",
              "      dtype='object')"
            ]
          },
          "execution_count": 8,
          "metadata": {},
          "output_type": "execute_result"
        }
      ],
      "source": [
        "df.columns"
      ]
    },
    {
      "cell_type": "code",
      "execution_count": 9,
      "metadata": {
        "id": "0Sv-YSD6p1q0"
      },
      "outputs": [
        {
          "data": {
            "text/plain": [
              "(34755, 12)"
            ]
          },
          "execution_count": 9,
          "metadata": {},
          "output_type": "execute_result"
        }
      ],
      "source": [
        "df.shape"
      ]
    },
    {
      "cell_type": "code",
      "execution_count": 10,
      "metadata": {
        "id": "jnkDMLVnA54i"
      },
      "outputs": [],
      "source": [
        "target = data[\"PlayType\"]"
      ]
    },
    {
      "cell_type": "code",
      "execution_count": 11,
      "metadata": {
        "id": "C_CyC5K8rS-t"
      },
      "outputs": [
        {
          "data": {
            "text/plain": [
              "<Axes: xlabel='PlayType'>"
            ]
          },
          "execution_count": 11,
          "metadata": {},
          "output_type": "execute_result"
        },
        {
          "data": {
            "image/png": "[encoded data removed]",
            "text/plain": [
              "<Figure size 640x480 with 1 Axes>"
            ]
          },
          "metadata": {},
          "output_type": "display_data"
        }
      ],
      "source": [
        "target.value_counts().plot(kind='bar')"
      ]
    },
    {
      "cell_type": "code",
      "execution_count": 12,
      "metadata": {
        "id": "DxpeMELxoIOa"
      },
      "outputs": [
        {
          "data": {
            "text/plain": [
              "array(['Run', 'Pass', 'Field Goal', 'Punt'], dtype=object)"
            ]
          },
          "execution_count": 12,
          "metadata": {},
          "output_type": "execute_result"
        }
      ],
      "source": [
        "target.unique()"
      ]
    },
    {
      "cell_type": "code",
      "execution_count": 13,
      "metadata": {
        "id": "eMMLRRG1q3VW"
      },
      "outputs": [
        {
          "name": "stderr",
          "output_type": "stream",
          "text": [
            "/var/folders/q_/jngx2c4j3d57vcn5b3qsyqcw0000gn/T/ipykernel_25464/2338959956.py:1: FutureWarning: Downcasting behavior in `replace` is deprecated and will be removed in a future version. To retain the old behavior, explicitly call `result.infer_objects(copy=False)`. To opt-in to the future behavior, set `pd.set_option('future.no_silent_downcasting', True)`\n",
            "  target_col = target.replace({'Pass': 0, 'Run': 1, 'Punt':2, \"Field Goal\":3})\n"
          ]
        }
      ],
      "source": [
        "target_col = target.replace({'Pass': 0, 'Run': 1, 'Punt':2, \"Field Goal\":3})"
      ]
    },
    {
      "cell_type": "code",
      "execution_count": 14,
      "metadata": {
        "id": "JWqQnsJwq3MO"
      },
      "outputs": [],
      "source": [
        "target = pd.DataFrame(target_col)"
      ]
    },
    {
      "cell_type": "code",
      "execution_count": 15,
      "metadata": {},
      "outputs": [
        {
          "data": {
            "text/html": [
              "<div>\n",
              "<style scoped>\n",
              "    .dataframe tbody tr th:only-of-type {\n",
              "        vertical-align: middle;\n",
              "    }\n",
              "\n",
              "    .dataframe tbody tr th {\n",
              "        vertical-align: top;\n",
              "    }\n",
              "\n",
              "    .dataframe thead th {\n",
              "        text-align: right;\n",
              "    }\n",
              "</style>\n",
              "<table border=\"1\" class=\"dataframe\">\n",
              "  <thead>\n",
              "    <tr style=\"text-align: right;\">\n",
              "      <th></th>\n",
              "      <th>PlayType</th>\n",
              "    </tr>\n",
              "  </thead>\n",
              "  <tbody>\n",
              "    <tr>\n",
              "      <th>1</th>\n",
              "      <td>1</td>\n",
              "    </tr>\n",
              "    <tr>\n",
              "      <th>2</th>\n",
              "      <td>0</td>\n",
              "    </tr>\n",
              "    <tr>\n",
              "      <th>3</th>\n",
              "      <td>1</td>\n",
              "    </tr>\n",
              "    <tr>\n",
              "      <th>4</th>\n",
              "      <td>0</td>\n",
              "    </tr>\n",
              "    <tr>\n",
              "      <th>5</th>\n",
              "      <td>1</td>\n",
              "    </tr>\n",
              "  </tbody>\n",
              "</table>\n",
              "</div>"
            ],
            "text/plain": [
              "   PlayType\n",
              "1         1\n",
              "2         0\n",
              "3         1\n",
              "4         0\n",
              "5         1"
            ]
          },
          "execution_count": 15,
          "metadata": {},
          "output_type": "execute_result"
        }
      ],
      "source": [
        "target.head()"
      ]
    },
    {
      "cell_type": "code",
      "execution_count": 16,
      "metadata": {
        "id": "lf5XWt9Zr57u"
      },
      "outputs": [
        {
          "data": {
            "text/html": [
              "<div>\n",
              "<style scoped>\n",
              "    .dataframe tbody tr th:only-of-type {\n",
              "        vertical-align: middle;\n",
              "    }\n",
              "\n",
              "    .dataframe tbody tr th {\n",
              "        vertical-align: top;\n",
              "    }\n",
              "\n",
              "    .dataframe thead th {\n",
              "        text-align: right;\n",
              "    }\n",
              "</style>\n",
              "<table border=\"1\" class=\"dataframe\">\n",
              "  <thead>\n",
              "    <tr style=\"text-align: right;\">\n",
              "      <th></th>\n",
              "      <th>GameID</th>\n",
              "      <th>Drive</th>\n",
              "      <th>qtr</th>\n",
              "      <th>down</th>\n",
              "      <th>time</th>\n",
              "      <th>yrdline100</th>\n",
              "      <th>ydstogo</th>\n",
              "      <th>GoalToGo</th>\n",
              "      <th>PosTeamScore</th>\n",
              "      <th>DefTeamScore</th>\n",
              "      <th>FieldGoalDistance</th>\n",
              "      <th>ScoreDiff</th>\n",
              "    </tr>\n",
              "  </thead>\n",
              "  <tbody>\n",
              "    <tr>\n",
              "      <th>1</th>\n",
              "      <td>2015091000</td>\n",
              "      <td>1</td>\n",
              "      <td>1</td>\n",
              "      <td>1.0</td>\n",
              "      <td>1500</td>\n",
              "      <td>80.0</td>\n",
              "      <td>10</td>\n",
              "      <td>0.0</td>\n",
              "      <td>0.0</td>\n",
              "      <td>0.0</td>\n",
              "      <td>0.0</td>\n",
              "      <td>0.0</td>\n",
              "    </tr>\n",
              "    <tr>\n",
              "      <th>2</th>\n",
              "      <td>2015091000</td>\n",
              "      <td>1</td>\n",
              "      <td>1</td>\n",
              "      <td>1.0</td>\n",
              "      <td>1421</td>\n",
              "      <td>62.0</td>\n",
              "      <td>10</td>\n",
              "      <td>0.0</td>\n",
              "      <td>0.0</td>\n",
              "      <td>0.0</td>\n",
              "      <td>0.0</td>\n",
              "      <td>0.0</td>\n",
              "    </tr>\n",
              "    <tr>\n",
              "      <th>3</th>\n",
              "      <td>2015091000</td>\n",
              "      <td>1</td>\n",
              "      <td>1</td>\n",
              "      <td>2.0</td>\n",
              "      <td>1404</td>\n",
              "      <td>53.0</td>\n",
              "      <td>1</td>\n",
              "      <td>0.0</td>\n",
              "      <td>0.0</td>\n",
              "      <td>0.0</td>\n",
              "      <td>0.0</td>\n",
              "      <td>0.0</td>\n",
              "    </tr>\n",
              "    <tr>\n",
              "      <th>4</th>\n",
              "      <td>2015091000</td>\n",
              "      <td>1</td>\n",
              "      <td>1</td>\n",
              "      <td>1.0</td>\n",
              "      <td>1326</td>\n",
              "      <td>49.0</td>\n",
              "      <td>10</td>\n",
              "      <td>0.0</td>\n",
              "      <td>0.0</td>\n",
              "      <td>0.0</td>\n",
              "      <td>0.0</td>\n",
              "      <td>0.0</td>\n",
              "    </tr>\n",
              "    <tr>\n",
              "      <th>5</th>\n",
              "      <td>2015091000</td>\n",
              "      <td>1</td>\n",
              "      <td>1</td>\n",
              "      <td>1.0</td>\n",
              "      <td>1242</td>\n",
              "      <td>35.0</td>\n",
              "      <td>10</td>\n",
              "      <td>0.0</td>\n",
              "      <td>0.0</td>\n",
              "      <td>0.0</td>\n",
              "      <td>0.0</td>\n",
              "      <td>0.0</td>\n",
              "    </tr>\n",
              "  </tbody>\n",
              "</table>\n",
              "</div>"
            ],
            "text/plain": [
              "       GameID  Drive  qtr  down  time  yrdline100  ydstogo  GoalToGo  \\\n",
              "1  2015091000      1    1   1.0  1500        80.0       10       0.0   \n",
              "2  2015091000      1    1   1.0  1421        62.0       10       0.0   \n",
              "3  2015091000      1    1   2.0  1404        53.0        1       0.0   \n",
              "4  2015091000      1    1   1.0  1326        49.0       10       0.0   \n",
              "5  2015091000      1    1   1.0  1242        35.0       10       0.0   \n",
              "\n",
              "   PosTeamScore  DefTeamScore  FieldGoalDistance  ScoreDiff  \n",
              "1           0.0           0.0                0.0        0.0  \n",
              "2           0.0           0.0                0.0        0.0  \n",
              "3           0.0           0.0                0.0        0.0  \n",
              "4           0.0           0.0                0.0        0.0  \n",
              "5           0.0           0.0                0.0        0.0  "
            ]
          },
          "execution_count": 16,
          "metadata": {},
          "output_type": "execute_result"
        }
      ],
      "source": [
        "df.head()"
      ]
    },
    {
      "cell_type": "code",
      "execution_count": 17,
      "metadata": {
        "id": "DVDvlpU0soad"
      },
      "outputs": [
        {
          "data": {
            "text/plain": [
              "12"
            ]
          },
          "execution_count": 17,
          "metadata": {},
          "output_type": "execute_result"
        }
      ],
      "source": [
        "len(df.columns)"
      ]
    },
    {
      "cell_type": "markdown",
      "metadata": {
        "id": "Msya0QHUqiti"
      },
      "source": [
        "# Creating a training and a testing set of data"
      ]
    },
    {
      "cell_type": "code",
      "execution_count": 18,
      "metadata": {
        "id": "lEvd6zgvp5r0"
      },
      "outputs": [
        {
          "data": {
            "text/plain": [
              "(34755, 1)"
            ]
          },
          "execution_count": 18,
          "metadata": {},
          "output_type": "execute_result"
        }
      ],
      "source": [
        "target.shape  # This is the target variable"
      ]
    },
    {
      "cell_type": "code",
      "execution_count": 19,
      "metadata": {
        "id": "wMbipftPqn-l"
      },
      "outputs": [
        {
          "data": {
            "text/plain": [
              "(34755, 12)"
            ]
          },
          "execution_count": 19,
          "metadata": {},
          "output_type": "execute_result"
        }
      ],
      "source": [
        "df.shape    # This is the predictor variable"
      ]
    },
    {
      "cell_type": "code",
      "execution_count": 20,
      "metadata": {
        "id": "v7rSuIyP0ook"
      },
      "outputs": [],
      "source": [
        "scaler = StandardScaler().set_output(transform='pandas')\n",
        "feature_mat = scaler.fit_transform(df)"
      ]
    },
    {
      "cell_type": "code",
      "execution_count": 21,
      "metadata": {
        "id": "M6QLA-Dn0-NM"
      },
      "outputs": [
        {
          "data": {
            "text/html": [
              "<div>\n",
              "<style scoped>\n",
              "    .dataframe tbody tr th:only-of-type {\n",
              "        vertical-align: middle;\n",
              "    }\n",
              "\n",
              "    .dataframe tbody tr th {\n",
              "        vertical-align: top;\n",
              "    }\n",
              "\n",
              "    .dataframe thead th {\n",
              "        text-align: right;\n",
              "    }\n",
              "</style>\n",
              "<table border=\"1\" class=\"dataframe\">\n",
              "  <thead>\n",
              "    <tr style=\"text-align: right;\">\n",
              "      <th></th>\n",
              "      <th>GameID</th>\n",
              "      <th>Drive</th>\n",
              "      <th>qtr</th>\n",
              "      <th>down</th>\n",
              "      <th>time</th>\n",
              "      <th>yrdline100</th>\n",
              "      <th>ydstogo</th>\n",
              "      <th>GoalToGo</th>\n",
              "      <th>PosTeamScore</th>\n",
              "      <th>DefTeamScore</th>\n",
              "      <th>FieldGoalDistance</th>\n",
              "      <th>ScoreDiff</th>\n",
              "    </tr>\n",
              "  </thead>\n",
              "  <tbody>\n",
              "    <tr>\n",
              "      <th>1</th>\n",
              "      <td>-0.335195</td>\n",
              "      <td>-1.546073</td>\n",
              "      <td>-1.366145</td>\n",
              "      <td>-0.983773</td>\n",
              "      <td>1.762368</td>\n",
              "      <td>1.081239</td>\n",
              "      <td>0.330279</td>\n",
              "      <td>-0.262346</td>\n",
              "      <td>-1.101194</td>\n",
              "      <td>-1.148133</td>\n",
              "      <td>-0.164856</td>\n",
              "      <td>0.105585</td>\n",
              "    </tr>\n",
              "    <tr>\n",
              "      <th>2</th>\n",
              "      <td>-0.335195</td>\n",
              "      <td>-1.546073</td>\n",
              "      <td>-1.366145</td>\n",
              "      <td>-0.983773</td>\n",
              "      <td>1.586879</td>\n",
              "      <td>0.355412</td>\n",
              "      <td>0.330279</td>\n",
              "      <td>-0.262346</td>\n",
              "      <td>-1.101194</td>\n",
              "      <td>-1.148133</td>\n",
              "      <td>-0.164856</td>\n",
              "      <td>0.105585</td>\n",
              "    </tr>\n",
              "    <tr>\n",
              "      <th>3</th>\n",
              "      <td>-0.335195</td>\n",
              "      <td>-1.546073</td>\n",
              "      <td>-1.366145</td>\n",
              "      <td>0.003351</td>\n",
              "      <td>1.549116</td>\n",
              "      <td>-0.007501</td>\n",
              "      <td>-1.830288</td>\n",
              "      <td>-0.262346</td>\n",
              "      <td>-1.101194</td>\n",
              "      <td>-1.148133</td>\n",
              "      <td>-0.164856</td>\n",
              "      <td>0.105585</td>\n",
              "    </tr>\n",
              "    <tr>\n",
              "      <th>4</th>\n",
              "      <td>-0.335195</td>\n",
              "      <td>-1.546073</td>\n",
              "      <td>-1.366145</td>\n",
              "      <td>-0.983773</td>\n",
              "      <td>1.375849</td>\n",
              "      <td>-0.168796</td>\n",
              "      <td>0.330279</td>\n",
              "      <td>-0.262346</td>\n",
              "      <td>-1.101194</td>\n",
              "      <td>-1.148133</td>\n",
              "      <td>-0.164856</td>\n",
              "      <td>0.105585</td>\n",
              "    </tr>\n",
              "    <tr>\n",
              "      <th>5</th>\n",
              "      <td>-0.335195</td>\n",
              "      <td>-1.546073</td>\n",
              "      <td>-1.366145</td>\n",
              "      <td>-0.983773</td>\n",
              "      <td>1.189255</td>\n",
              "      <td>-0.733327</td>\n",
              "      <td>0.330279</td>\n",
              "      <td>-0.262346</td>\n",
              "      <td>-1.101194</td>\n",
              "      <td>-1.148133</td>\n",
              "      <td>-0.164856</td>\n",
              "      <td>0.105585</td>\n",
              "    </tr>\n",
              "    <tr>\n",
              "      <th>...</th>\n",
              "      <td>...</td>\n",
              "      <td>...</td>\n",
              "      <td>...</td>\n",
              "      <td>...</td>\n",
              "      <td>...</td>\n",
              "      <td>...</td>\n",
              "      <td>...</td>\n",
              "      <td>...</td>\n",
              "      <td>...</td>\n",
              "      <td>...</td>\n",
              "      <td>...</td>\n",
              "      <td>...</td>\n",
              "    </tr>\n",
              "    <tr>\n",
              "      <th>46124</th>\n",
              "      <td>3.865044</td>\n",
              "      <td>1.414519</td>\n",
              "      <td>1.271556</td>\n",
              "      <td>1.977599</td>\n",
              "      <td>-1.474166</td>\n",
              "      <td>0.194118</td>\n",
              "      <td>0.330279</td>\n",
              "      <td>-0.262346</td>\n",
              "      <td>0.289601</td>\n",
              "      <td>0.763420</td>\n",
              "      <td>-0.164856</td>\n",
              "      <td>-0.460610</td>\n",
              "    </tr>\n",
              "    <tr>\n",
              "      <th>46125</th>\n",
              "      <td>3.865044</td>\n",
              "      <td>1.414519</td>\n",
              "      <td>1.271556</td>\n",
              "      <td>-0.983773</td>\n",
              "      <td>-1.509708</td>\n",
              "      <td>-0.289767</td>\n",
              "      <td>0.330279</td>\n",
              "      <td>-0.262346</td>\n",
              "      <td>0.289601</td>\n",
              "      <td>0.763420</td>\n",
              "      <td>-0.164856</td>\n",
              "      <td>-0.460610</td>\n",
              "    </tr>\n",
              "    <tr>\n",
              "      <th>46126</th>\n",
              "      <td>3.865044</td>\n",
              "      <td>1.414519</td>\n",
              "      <td>1.271556</td>\n",
              "      <td>0.003351</td>\n",
              "      <td>-1.516372</td>\n",
              "      <td>-0.572033</td>\n",
              "      <td>-1.350162</td>\n",
              "      <td>-0.262346</td>\n",
              "      <td>0.289601</td>\n",
              "      <td>0.763420</td>\n",
              "      <td>-0.164856</td>\n",
              "      <td>-0.460610</td>\n",
              "    </tr>\n",
              "    <tr>\n",
              "      <th>46127</th>\n",
              "      <td>3.865044</td>\n",
              "      <td>1.414519</td>\n",
              "      <td>1.271556</td>\n",
              "      <td>0.990475</td>\n",
              "      <td>-1.536365</td>\n",
              "      <td>-0.572033</td>\n",
              "      <td>-1.350162</td>\n",
              "      <td>-0.262346</td>\n",
              "      <td>0.289601</td>\n",
              "      <td>0.763420</td>\n",
              "      <td>-0.164856</td>\n",
              "      <td>-0.460610</td>\n",
              "    </tr>\n",
              "    <tr>\n",
              "      <th>46128</th>\n",
              "      <td>3.865044</td>\n",
              "      <td>1.414519</td>\n",
              "      <td>1.271556</td>\n",
              "      <td>1.977599</td>\n",
              "      <td>-1.567464</td>\n",
              "      <td>-0.612356</td>\n",
              "      <td>-1.590225</td>\n",
              "      <td>-0.262346</td>\n",
              "      <td>0.289601</td>\n",
              "      <td>0.763420</td>\n",
              "      <td>-0.164856</td>\n",
              "      <td>-0.460610</td>\n",
              "    </tr>\n",
              "  </tbody>\n",
              "</table>\n",
              "<p>34755 rows × 12 columns</p>\n",
              "</div>"
            ],
            "text/plain": [
              "         GameID     Drive       qtr      down      time  yrdline100   ydstogo  \\\n",
              "1     -0.335195 -1.546073 -1.366145 -0.983773  1.762368    1.081239  0.330279   \n",
              "2     -0.335195 -1.546073 -1.366145 -0.983773  1.586879    0.355412  0.330279   \n",
              "3     -0.335195 -1.546073 -1.366145  0.003351  1.549116   -0.007501 -1.830288   \n",
              "4     -0.335195 -1.546073 -1.366145 -0.983773  1.375849   -0.168796  0.330279   \n",
              "5     -0.335195 -1.546073 -1.366145 -0.983773  1.189255   -0.733327  0.330279   \n",
              "...         ...       ...       ...       ...       ...         ...       ...   \n",
              "46124  3.865044  1.414519  1.271556  1.977599 -1.474166    0.194118  0.330279   \n",
              "46125  3.865044  1.414519  1.271556 -0.983773 -1.509708   -0.289767  0.330279   \n",
              "46126  3.865044  1.414519  1.271556  0.003351 -1.516372   -0.572033 -1.350162   \n",
              "46127  3.865044  1.414519  1.271556  0.990475 -1.536365   -0.572033 -1.350162   \n",
              "46128  3.865044  1.414519  1.271556  1.977599 -1.567464   -0.612356 -1.590225   \n",
              "\n",
              "       GoalToGo  PosTeamScore  DefTeamScore  FieldGoalDistance  ScoreDiff  \n",
              "1     -0.262346     -1.101194     -1.148133          -0.164856   0.105585  \n",
              "2     -0.262346     -1.101194     -1.148133          -0.164856   0.105585  \n",
              "3     -0.262346     -1.101194     -1.148133          -0.164856   0.105585  \n",
              "4     -0.262346     -1.101194     -1.148133          -0.164856   0.105585  \n",
              "5     -0.262346     -1.101194     -1.148133          -0.164856   0.105585  \n",
              "...         ...           ...           ...                ...        ...  \n",
              "46124 -0.262346      0.289601      0.763420          -0.164856  -0.460610  \n",
              "46125 -0.262346      0.289601      0.763420          -0.164856  -0.460610  \n",
              "46126 -0.262346      0.289601      0.763420          -0.164856  -0.460610  \n",
              "46127 -0.262346      0.289601      0.763420          -0.164856  -0.460610  \n",
              "46128 -0.262346      0.289601      0.763420          -0.164856  -0.460610  \n",
              "\n",
              "[34755 rows x 12 columns]"
            ]
          },
          "execution_count": 21,
          "metadata": {},
          "output_type": "execute_result"
        }
      ],
      "source": [
        "feature_mat"
      ]
    },
    {
      "cell_type": "code",
      "execution_count": 22,
      "metadata": {},
      "outputs": [
        {
          "data": {
            "text/html": [
              "<div>\n",
              "<style scoped>\n",
              "    .dataframe tbody tr th:only-of-type {\n",
              "        vertical-align: middle;\n",
              "    }\n",
              "\n",
              "    .dataframe tbody tr th {\n",
              "        vertical-align: top;\n",
              "    }\n",
              "\n",
              "    .dataframe thead th {\n",
              "        text-align: right;\n",
              "    }\n",
              "</style>\n",
              "<table border=\"1\" class=\"dataframe\">\n",
              "  <thead>\n",
              "    <tr style=\"text-align: right;\">\n",
              "      <th></th>\n",
              "      <th>GameID</th>\n",
              "      <th>Drive</th>\n",
              "      <th>qtr</th>\n",
              "      <th>down</th>\n",
              "      <th>time</th>\n",
              "      <th>yrdline100</th>\n",
              "      <th>ydstogo</th>\n",
              "      <th>GoalToGo</th>\n",
              "      <th>PosTeamScore</th>\n",
              "      <th>DefTeamScore</th>\n",
              "      <th>FieldGoalDistance</th>\n",
              "      <th>ScoreDiff</th>\n",
              "    </tr>\n",
              "  </thead>\n",
              "  <tbody>\n",
              "    <tr>\n",
              "      <th>count</th>\n",
              "      <td>3.475500e+04</td>\n",
              "      <td>3.475500e+04</td>\n",
              "      <td>3.475500e+04</td>\n",
              "      <td>3.475500e+04</td>\n",
              "      <td>3.475500e+04</td>\n",
              "      <td>3.475500e+04</td>\n",
              "      <td>3.475500e+04</td>\n",
              "      <td>3.475500e+04</td>\n",
              "      <td>3.475500e+04</td>\n",
              "      <td>3.475500e+04</td>\n",
              "      <td>3.475500e+04</td>\n",
              "      <td>3.475500e+04</td>\n",
              "    </tr>\n",
              "    <tr>\n",
              "      <th>mean</th>\n",
              "      <td>-8.936626e-14</td>\n",
              "      <td>7.768846e-17</td>\n",
              "      <td>-6.910184e-17</td>\n",
              "      <td>8.116400e-17</td>\n",
              "      <td>-5.785746e-17</td>\n",
              "      <td>-1.271637e-16</td>\n",
              "      <td>-1.341148e-16</td>\n",
              "      <td>3.189316e-17</td>\n",
              "      <td>6.419520e-17</td>\n",
              "      <td>2.943984e-17</td>\n",
              "      <td>-4.170644e-17</td>\n",
              "      <td>9.097727e-18</td>\n",
              "    </tr>\n",
              "    <tr>\n",
              "      <th>std</th>\n",
              "      <td>1.000014e+00</td>\n",
              "      <td>1.000014e+00</td>\n",
              "      <td>1.000014e+00</td>\n",
              "      <td>1.000014e+00</td>\n",
              "      <td>1.000014e+00</td>\n",
              "      <td>1.000014e+00</td>\n",
              "      <td>1.000014e+00</td>\n",
              "      <td>1.000014e+00</td>\n",
              "      <td>1.000014e+00</td>\n",
              "      <td>1.000014e+00</td>\n",
              "      <td>1.000014e+00</td>\n",
              "      <td>1.000014e+00</td>\n",
              "    </tr>\n",
              "    <tr>\n",
              "      <th>min</th>\n",
              "      <td>-3.351949e-01</td>\n",
              "      <td>-1.546073e+00</td>\n",
              "      <td>-1.366145e+00</td>\n",
              "      <td>-9.837725e-01</td>\n",
              "      <td>-1.569685e+00</td>\n",
              "      <td>-2.104333e+00</td>\n",
              "      <td>-1.830288e+00</td>\n",
              "      <td>-2.623462e-01</td>\n",
              "      <td>-1.101194e+00</td>\n",
              "      <td>-1.148133e+00</td>\n",
              "      <td>-1.648559e-01</td>\n",
              "      <td>-3.763411e+00</td>\n",
              "    </tr>\n",
              "    <tr>\n",
              "      <th>25%</th>\n",
              "      <td>-2.890489e-01</td>\n",
              "      <td>-8.411699e-01</td>\n",
              "      <td>-4.869115e-01</td>\n",
              "      <td>-9.837725e-01</td>\n",
              "      <td>-8.832822e-01</td>\n",
              "      <td>-7.736511e-01</td>\n",
              "      <td>-6.299729e-01</td>\n",
              "      <td>-2.623462e-01</td>\n",
              "      <td>-7.802416e-01</td>\n",
              "      <td>-8.463091e-01</td>\n",
              "      <td>-1.648559e-01</td>\n",
              "      <td>-5.549755e-01</td>\n",
              "    </tr>\n",
              "    <tr>\n",
              "      <th>50%</th>\n",
              "      <td>-2.446986e-01</td>\n",
              "      <td>4.713550e-03</td>\n",
              "      <td>3.923221e-01</td>\n",
              "      <td>3.351478e-03</td>\n",
              "      <td>5.265132e-03</td>\n",
              "      <td>1.537939e-01</td>\n",
              "      <td>3.302792e-01</td>\n",
              "      <td>-2.623462e-01</td>\n",
              "      <td>-1.383361e-01</td>\n",
              "      <td>-1.420526e-01</td>\n",
              "      <td>-1.648559e-01</td>\n",
              "      <td>1.055848e-01</td>\n",
              "    </tr>\n",
              "    <tr>\n",
              "      <th>75%</th>\n",
              "      <td>-1.994984e-01</td>\n",
              "      <td>8.505970e-01</td>\n",
              "      <td>1.271556e+00</td>\n",
              "      <td>9.904755e-01</td>\n",
              "      <td>8.938125e-01</td>\n",
              "      <td>8.392967e-01</td>\n",
              "      <td>3.302792e-01</td>\n",
              "      <td>-2.623462e-01</td>\n",
              "      <td>6.105536e-01</td>\n",
              "      <td>5.622039e-01</td>\n",
              "      <td>-1.648559e-01</td>\n",
              "      <td>4.830479e-01</td>\n",
              "    </tr>\n",
              "    <tr>\n",
              "      <th>max</th>\n",
              "      <td>3.865067e+00</td>\n",
              "      <td>2.965306e+00</td>\n",
              "      <td>2.150789e+00</td>\n",
              "      <td>1.977599e+00</td>\n",
              "      <td>1.762368e+00</td>\n",
              "      <td>1.847389e+00</td>\n",
              "      <td>8.012296e+00</td>\n",
              "      <td>3.811757e+00</td>\n",
              "      <td>4.461987e+00</td>\n",
              "      <td>3.982878e+00</td>\n",
              "      <td>9.877674e+00</td>\n",
              "      <td>3.880215e+00</td>\n",
              "    </tr>\n",
              "  </tbody>\n",
              "</table>\n",
              "</div>"
            ],
            "text/plain": [
              "             GameID         Drive           qtr          down          time  \\\n",
              "count  3.475500e+04  3.475500e+04  3.475500e+04  3.475500e+04  3.475500e+04   \n",
              "mean  -8.936626e-14  7.768846e-17 -6.910184e-17  8.116400e-17 -5.785746e-17   \n",
              "std    1.000014e+00  1.000014e+00  1.000014e+00  1.000014e+00  1.000014e+00   \n",
              "min   -3.351949e-01 -1.546073e+00 -1.366145e+00 -9.837725e-01 -1.569685e+00   \n",
              "25%   -2.890489e-01 -8.411699e-01 -4.869115e-01 -9.837725e-01 -8.832822e-01   \n",
              "50%   -2.446986e-01  4.713550e-03  3.923221e-01  3.351478e-03  5.265132e-03   \n",
              "75%   -1.994984e-01  8.505970e-01  1.271556e+00  9.904755e-01  8.938125e-01   \n",
              "max    3.865067e+00  2.965306e+00  2.150789e+00  1.977599e+00  1.762368e+00   \n",
              "\n",
              "         yrdline100       ydstogo      GoalToGo  PosTeamScore  DefTeamScore  \\\n",
              "count  3.475500e+04  3.475500e+04  3.475500e+04  3.475500e+04  3.475500e+04   \n",
              "mean  -1.271637e-16 -1.341148e-16  3.189316e-17  6.419520e-17  2.943984e-17   \n",
              "std    1.000014e+00  1.000014e+00  1.000014e+00  1.000014e+00  1.000014e+00   \n",
              "min   -2.104333e+00 -1.830288e+00 -2.623462e-01 -1.101194e+00 -1.148133e+00   \n",
              "25%   -7.736511e-01 -6.299729e-01 -2.623462e-01 -7.802416e-01 -8.463091e-01   \n",
              "50%    1.537939e-01  3.302792e-01 -2.623462e-01 -1.383361e-01 -1.420526e-01   \n",
              "75%    8.392967e-01  3.302792e-01 -2.623462e-01  6.105536e-01  5.622039e-01   \n",
              "max    1.847389e+00  8.012296e+00  3.811757e+00  4.461987e+00  3.982878e+00   \n",
              "\n",
              "       FieldGoalDistance     ScoreDiff  \n",
              "count       3.475500e+04  3.475500e+04  \n",
              "mean       -4.170644e-17  9.097727e-18  \n",
              "std         1.000014e+00  1.000014e+00  \n",
              "min        -1.648559e-01 -3.763411e+00  \n",
              "25%        -1.648559e-01 -5.549755e-01  \n",
              "50%        -1.648559e-01  1.055848e-01  \n",
              "75%        -1.648559e-01  4.830479e-01  \n",
              "max         9.877674e+00  3.880215e+00  "
            ]
          },
          "execution_count": 22,
          "metadata": {},
          "output_type": "execute_result"
        }
      ],
      "source": [
        "pd.DataFrame(feature_mat).describe()"
      ]
    },
    {
      "cell_type": "markdown",
      "metadata": {
        "id": "pyKx1Wkq1Gtp"
      },
      "source": [
        "# Creating a training set and a testing set of data"
      ]
    },
    {
      "cell_type": "code",
      "execution_count": 23,
      "metadata": {
        "id": "zFa5TflC1MYa"
      },
      "outputs": [],
      "source": [
        "X_train, X_test, y_train, y_test = \\\n",
        "train_test_split(feature_mat, target, test_size=0.15, random_state=400)"
      ]
    },
    {
      "cell_type": "code",
      "execution_count": 24,
      "metadata": {
        "id": "jELM_VP61VrF"
      },
      "outputs": [
        {
          "name": "stdout",
          "output_type": "stream",
          "text": [
            "X_train: (29541, 12)\n",
            "X_test: (5214, 12)\n",
            "y_train: (29541, 1)\n",
            "y_test: (5214, 1)\n"
          ]
        }
      ],
      "source": [
        "print(\"X_train:\", X_train.shape); print(\"X_test:\", X_test.shape); print(\"y_train:\", y_train.shape); print(\"y_test:\", y_test.shape)"
      ]
    },
    {
      "cell_type": "code",
      "execution_count": 25,
      "metadata": {
        "id": "nwdE6ef81yk4"
      },
      "outputs": [
        {
          "data": {
            "text/plain": [
              "'\\ny_train1 = to_categorical(y_train)\\ny_test1 = to_categorical(y_test)\\n'"
            ]
          },
          "execution_count": 25,
          "metadata": {},
          "output_type": "execute_result"
        }
      ],
      "source": [
        "\"\"\"\n",
        "y_train1 = to_categorical(y_train)\n",
        "y_test1 = to_categorical(y_test)\n",
        "\"\"\""
      ]
    },
    {
      "cell_type": "markdown",
      "metadata": {
        "id": "Sf0VLE1G22cr"
      },
      "source": [
        "# Defining the model"
      ]
    },
    {
      "cell_type": "code",
      "execution_count": 26,
      "metadata": {
        "id": "AEjNRXvb27uI"
      },
      "outputs": [
        {
          "name": "stderr",
          "output_type": "stream",
          "text": [
            "/Users/gauravkharel/Documents/BoozAllen/Data Science/Capstone/sklearn-env/lib/python3.12/site-packages/keras/src/layers/core/dense.py:87: UserWarning: Do not pass an `input_shape`/`input_dim` argument to a layer. When using Sequential models, prefer using an `Input(shape)` object as the first layer in the model instead.\n",
            "  super().__init__(activity_regularizer=activity_regularizer, **kwargs)\n"
          ]
        }
      ],
      "source": [
        "model = Sequential()\n",
        "model.add(Dense(128, activation='relu', input_dim=12)) \n",
        "model.add(Dense(64, activation='relu')) \n",
        "model.add(Dense(32, activation='relu'))\n",
        "model.add(Dense(16, activation='relu'))\n",
        "model.add(Dense(4))\n",
        "\n",
        "# Comiple the model\n",
        "model.compile(optimizer='adam',\n",
        "              loss='mean_squared_error',\n",
        "              metrics=['accuracy'])\n"
      ]
    },
    {
      "cell_type": "code",
      "execution_count": 27,
      "metadata": {
        "id": "hmAmVT1x2_ve"
      },
      "outputs": [
        {
          "data": {
            "text/html": [
              "<pre style=\"white-space:pre;overflow-x:auto;line-height:normal;font-family:Menlo,'DejaVu Sans Mono',consolas,'Courier New',monospace\"><span style=\"font-weight: bold\">Model: \"sequential\"</span>\n",
              "</pre>\n"
            ],
            "text/plain": [
              "\u001b[1mModel: \"sequential\"\u001b[0m\n"
            ]
          },
          "metadata": {},
          "output_type": "display_data"
        },
        {
          "data": {
            "text/html": [
              "<pre style=\"white-space:pre;overflow-x:auto;line-height:normal;font-family:Menlo,'DejaVu Sans Mono',consolas,'Courier New',monospace\">┏━━━━━━━━━━━━━━━━━━━━━━━━━━━━━━━━━┳━━━━━━━━━━━━━━━━━━━━━━━━┳━━━━━━━━━━━━━━━┓\n",
              "┃<span style=\"font-weight: bold\"> Layer (type)                    </span>┃<span style=\"font-weight: bold\"> Output Shape           </span>┃<span style=\"font-weight: bold\">       Param # </span>┃\n",
              "┡━━━━━━━━━━━━━━━━━━━━━━━━━━━━━━━━━╇━━━━━━━━━━━━━━━━━━━━━━━━╇━━━━━━━━━━━━━━━┩\n",
              "│ dense (<span style=\"color: #0087ff; text-decoration-color: #0087ff\">Dense</span>)                   │ (<span style=\"color: #00d7ff; text-decoration-color: #00d7ff\">None</span>, <span style=\"color: #00af00; text-decoration-color: #00af00\">128</span>)            │         <span style=\"color: #00af00; text-decoration-color: #00af00\">1,664</span> │\n",
              "├─────────────────────────────────┼────────────────────────┼───────────────┤\n",
              "│ dense_1 (<span style=\"color: #0087ff; text-decoration-color: #0087ff\">Dense</span>)                 │ (<span style=\"color: #00d7ff; text-decoration-color: #00d7ff\">None</span>, <span style=\"color: #00af00; text-decoration-color: #00af00\">64</span>)             │         <span style=\"color: #00af00; text-decoration-color: #00af00\">8,256</span> │\n",
              "├─────────────────────────────────┼────────────────────────┼───────────────┤\n",
              "│ dense_2 (<span style=\"color: #0087ff; text-decoration-color: #0087ff\">Dense</span>)                 │ (<span style=\"color: #00d7ff; text-decoration-color: #00d7ff\">None</span>, <span style=\"color: #00af00; text-decoration-color: #00af00\">32</span>)             │         <span style=\"color: #00af00; text-decoration-color: #00af00\">2,080</span> │\n",
              "├─────────────────────────────────┼────────────────────────┼───────────────┤\n",
              "│ dense_3 (<span style=\"color: #0087ff; text-decoration-color: #0087ff\">Dense</span>)                 │ (<span style=\"color: #00d7ff; text-decoration-color: #00d7ff\">None</span>, <span style=\"color: #00af00; text-decoration-color: #00af00\">16</span>)             │           <span style=\"color: #00af00; text-decoration-color: #00af00\">528</span> │\n",
              "├─────────────────────────────────┼────────────────────────┼───────────────┤\n",
              "│ dense_4 (<span style=\"color: #0087ff; text-decoration-color: #0087ff\">Dense</span>)                 │ (<span style=\"color: #00d7ff; text-decoration-color: #00d7ff\">None</span>, <span style=\"color: #00af00; text-decoration-color: #00af00\">4</span>)              │            <span style=\"color: #00af00; text-decoration-color: #00af00\">68</span> │\n",
              "└─────────────────────────────────┴────────────────────────┴───────────────┘\n",
              "</pre>\n"
            ],
            "text/plain": [
              "┏━━━━━━━━━━━━━━━━━━━━━━━━━━━━━━━━━┳━━━━━━━━━━━━━━━━━━━━━━━━┳━━━━━━━━━━━━━━━┓\n",
              "┃\u001b[1m \u001b[0m\u001b[1mLayer (type)                   \u001b[0m\u001b[1m \u001b[0m┃\u001b[1m \u001b[0m\u001b[1mOutput Shape          \u001b[0m\u001b[1m \u001b[0m┃\u001b[1m \u001b[0m\u001b[1m      Param #\u001b[0m\u001b[1m \u001b[0m┃\n",
              "┡━━━━━━━━━━━━━━━━━━━━━━━━━━━━━━━━━╇━━━━━━━━━━━━━━━━━━━━━━━━╇━━━━━━━━━━━━━━━┩\n",
              "│ dense (\u001b[38;5;33mDense\u001b[0m)                   │ (\u001b[38;5;45mNone\u001b[0m, \u001b[38;5;34m128\u001b[0m)            │         \u001b[38;5;34m1,664\u001b[0m │\n",
              "├─────────────────────────────────┼────────────────────────┼───────────────┤\n",
              "│ dense_1 (\u001b[38;5;33mDense\u001b[0m)                 │ (\u001b[38;5;45mNone\u001b[0m, \u001b[38;5;34m64\u001b[0m)             │         \u001b[38;5;34m8,256\u001b[0m │\n",
              "├─────────────────────────────────┼────────────────────────┼───────────────┤\n",
              "│ dense_2 (\u001b[38;5;33mDense\u001b[0m)                 │ (\u001b[38;5;45mNone\u001b[0m, \u001b[38;5;34m32\u001b[0m)             │         \u001b[38;5;34m2,080\u001b[0m │\n",
              "├─────────────────────────────────┼────────────────────────┼───────────────┤\n",
              "│ dense_3 (\u001b[38;5;33mDense\u001b[0m)                 │ (\u001b[38;5;45mNone\u001b[0m, \u001b[38;5;34m16\u001b[0m)             │           \u001b[38;5;34m528\u001b[0m │\n",
              "├─────────────────────────────────┼────────────────────────┼───────────────┤\n",
              "│ dense_4 (\u001b[38;5;33mDense\u001b[0m)                 │ (\u001b[38;5;45mNone\u001b[0m, \u001b[38;5;34m4\u001b[0m)              │            \u001b[38;5;34m68\u001b[0m │\n",
              "└─────────────────────────────────┴────────────────────────┴───────────────┘\n"
            ]
          },
          "metadata": {},
          "output_type": "display_data"
        },
        {
          "data": {
            "text/html": [
              "<pre style=\"white-space:pre;overflow-x:auto;line-height:normal;font-family:Menlo,'DejaVu Sans Mono',consolas,'Courier New',monospace\"><span style=\"font-weight: bold\"> Total params: </span><span style=\"color: #00af00; text-decoration-color: #00af00\">12,596</span> (49.20 KB)\n",
              "</pre>\n"
            ],
            "text/plain": [
              "\u001b[1m Total params: \u001b[0m\u001b[38;5;34m12,596\u001b[0m (49.20 KB)\n"
            ]
          },
          "metadata": {},
          "output_type": "display_data"
        },
        {
          "data": {
            "text/html": [
              "<pre style=\"white-space:pre;overflow-x:auto;line-height:normal;font-family:Menlo,'DejaVu Sans Mono',consolas,'Courier New',monospace\"><span style=\"font-weight: bold\"> Trainable params: </span><span style=\"color: #00af00; text-decoration-color: #00af00\">12,596</span> (49.20 KB)\n",
              "</pre>\n"
            ],
            "text/plain": [
              "\u001b[1m Trainable params: \u001b[0m\u001b[38;5;34m12,596\u001b[0m (49.20 KB)\n"
            ]
          },
          "metadata": {},
          "output_type": "display_data"
        },
        {
          "data": {
            "text/html": [
              "<pre style=\"white-space:pre;overflow-x:auto;line-height:normal;font-family:Menlo,'DejaVu Sans Mono',consolas,'Courier New',monospace\"><span style=\"font-weight: bold\"> Non-trainable params: </span><span style=\"color: #00af00; text-decoration-color: #00af00\">0</span> (0.00 B)\n",
              "</pre>\n"
            ],
            "text/plain": [
              "\u001b[1m Non-trainable params: \u001b[0m\u001b[38;5;34m0\u001b[0m (0.00 B)\n"
            ]
          },
          "metadata": {},
          "output_type": "display_data"
        }
      ],
      "source": [
        "model.summary()"
      ]
    },
    {
      "cell_type": "markdown",
      "metadata": {
        "id": "7AT7Cw-S3hFA"
      },
      "source": [
        "# Training the model"
      ]
    },
    {
      "cell_type": "code",
      "execution_count": 28,
      "metadata": {
        "colab": {
          "base_uri": "https://localhost:8080/"
        },
        "id": "Mt23WqrO3j23",
        "outputId": "0a502042-ec86-4042-dcd0-b16dea9c2e18"
      },
      "outputs": [
        {
          "name": "stdout",
          "output_type": "stream",
          "text": [
            "Epoch 1/10\n"
          ]
        },
        {
          "name": "stdout",
          "output_type": "stream",
          "text": [
            "\u001b[1m924/924\u001b[0m \u001b[32m━━━━━━━━━━━━━━━━━━━━\u001b[0m\u001b[37m\u001b[0m \u001b[1m1s\u001b[0m 296us/step - accuracy: 0.2155 - loss: 0.3858\n",
            "Epoch 2/10\n",
            "\u001b[1m924/924\u001b[0m \u001b[32m━━━━━━━━━━━━━━━━━━━━\u001b[0m\u001b[37m\u001b[0m \u001b[1m0s\u001b[0m 280us/step - accuracy: 0.2033 - loss: 0.2031\n",
            "Epoch 3/10\n",
            "\u001b[1m924/924\u001b[0m \u001b[32m━━━━━━━━━━━━━━━━━━━━\u001b[0m\u001b[37m\u001b[0m \u001b[1m0s\u001b[0m 280us/step - accuracy: 0.1965 - loss: 0.1963\n",
            "Epoch 4/10\n",
            "\u001b[1m924/924\u001b[0m \u001b[32m━━━━━━━━━━━━━━━━━━━━\u001b[0m\u001b[37m\u001b[0m \u001b[1m0s\u001b[0m 296us/step - accuracy: 0.2007 - loss: 0.1918\n",
            "Epoch 5/10\n",
            "\u001b[1m924/924\u001b[0m \u001b[32m━━━━━━━━━━━━━━━━━━━━\u001b[0m\u001b[37m\u001b[0m \u001b[1m0s\u001b[0m 286us/step - accuracy: 0.2141 - loss: 0.1896\n",
            "Epoch 6/10\n",
            "\u001b[1m924/924\u001b[0m \u001b[32m━━━━━━━━━━━━━━━━━━━━\u001b[0m\u001b[37m\u001b[0m \u001b[1m0s\u001b[0m 283us/step - accuracy: 0.2357 - loss: 0.1899\n",
            "Epoch 7/10\n",
            "\u001b[1m924/924\u001b[0m \u001b[32m━━━━━━━━━━━━━━━━━━━━\u001b[0m\u001b[37m\u001b[0m \u001b[1m0s\u001b[0m 282us/step - accuracy: 0.2301 - loss: 0.1877\n",
            "Epoch 8/10\n",
            "\u001b[1m924/924\u001b[0m \u001b[32m━━━━━━━━━━━━━━━━━━━━\u001b[0m\u001b[37m\u001b[0m \u001b[1m0s\u001b[0m 285us/step - accuracy: 0.2229 - loss: 0.1853\n",
            "Epoch 9/10\n",
            "\u001b[1m924/924\u001b[0m \u001b[32m━━━━━━━━━━━━━━━━━━━━\u001b[0m\u001b[37m\u001b[0m \u001b[1m0s\u001b[0m 281us/step - accuracy: 0.2304 - loss: 0.1849\n",
            "Epoch 10/10\n",
            "\u001b[1m924/924\u001b[0m \u001b[32m━━━━━━━━━━━━━━━━━━━━\u001b[0m\u001b[37m\u001b[0m \u001b[1m0s\u001b[0m 280us/step - accuracy: 0.2321 - loss: 0.1863\n"
          ]
        },
        {
          "data": {
            "text/plain": [
              "<keras.src.callbacks.history.History at 0x173d06270>"
            ]
          },
          "execution_count": 28,
          "metadata": {},
          "output_type": "execute_result"
        }
      ],
      "source": [
        "model.fit(X_train, y_train, epochs=10)"
      ]
    },
    {
      "cell_type": "code",
      "execution_count": 29,
      "metadata": {
        "id": "VdwZOT1n3obs"
      },
      "outputs": [
        {
          "name": "stdout",
          "output_type": "stream",
          "text": [
            "\u001b[1m924/924\u001b[0m \u001b[32m━━━━━━━━━━━━━━━━━━━━\u001b[0m\u001b[37m\u001b[0m \u001b[1m0s\u001b[0m 181us/step - accuracy: 0.1863 - loss: 0.1828\n"
          ]
        },
        {
          "data": {
            "text/plain": [
              "[0.18364672362804413, 0.18780677020549774]"
            ]
          },
          "execution_count": 29,
          "metadata": {},
          "output_type": "execute_result"
        }
      ],
      "source": [
        "# The accuracy wouldn't be the best because CNN exels when there is a spatial structure\n",
        "\n",
        "model.evaluate(X_train, y_train)"
      ]
    },
    {
      "cell_type": "code",
      "execution_count": 30,
      "metadata": {
        "id": "wAQXseWa5QDV"
      },
      "outputs": [
        {
          "name": "stdout",
          "output_type": "stream",
          "text": [
            "\u001b[1m163/163\u001b[0m \u001b[32m━━━━━━━━━━━━━━━━━━━━\u001b[0m\u001b[37m\u001b[0m \u001b[1m0s\u001b[0m 189us/step - accuracy: 0.1976 - loss: 0.1910\n"
          ]
        },
        {
          "data": {
            "text/plain": [
              "[0.1911575198173523, 0.19792865216732025]"
            ]
          },
          "execution_count": 30,
          "metadata": {},
          "output_type": "execute_result"
        }
      ],
      "source": [
        "model.evaluate(X_test, y_test)"
      ]
    },
    {
      "cell_type": "code",
      "execution_count": 31,
      "metadata": {
        "id": "0rpcRj_I5cP1"
      },
      "outputs": [
        {
          "name": "stdout",
          "output_type": "stream",
          "text": [
            "\u001b[1m924/924\u001b[0m \u001b[32m━━━━━━━━━━━━━━━━━━━━\u001b[0m\u001b[37m\u001b[0m \u001b[1m0s\u001b[0m 195us/step\n",
            "-8.24128340347192\n"
          ]
        }
      ],
      "source": [
        "\"\"\"\n",
        "r2 = 1; Perfect fit; the model explain all the variability in the response variable\n",
        "r2 = 1; the model expains none of the variability\n",
        "r2 <1; the model performs worse than a simple model \n",
        "\"\"\"\n",
        "\n",
        "from sklearn.metrics import r2_score\n",
        "pred = model.predict(X_train)\n",
        "\n",
        "print(r2_score(to_categorical(y_train), pred))"
      ]
    },
    {
      "cell_type": "markdown",
      "metadata": {},
      "source": [
        "# Performance Measures"
      ]
    },
    {
      "cell_type": "code",
      "execution_count": 32,
      "metadata": {},
      "outputs": [
        {
          "name": "stdout",
          "output_type": "stream",
          "text": [
            "Epoch 1/10\n",
            "\u001b[1m924/924\u001b[0m \u001b[32m━━━━━━━━━━━━━━━━━━━━\u001b[0m\u001b[37m\u001b[0m \u001b[1m0s\u001b[0m 331us/step - accuracy: 0.2128 - loss: 0.1832 - val_accuracy: 0.2468 - val_loss: 0.1913\n",
            "Epoch 2/10\n",
            "\u001b[1m924/924\u001b[0m \u001b[32m━━━━━━━━━━━━━━━━━━━━\u001b[0m\u001b[37m\u001b[0m \u001b[1m0s\u001b[0m 318us/step - accuracy: 0.2227 - loss: 0.1817 - val_accuracy: 0.1525 - val_loss: 0.1887\n",
            "Epoch 3/10\n",
            "\u001b[1m924/924\u001b[0m \u001b[32m━━━━━━━━━━━━━━━━━━━━\u001b[0m\u001b[37m\u001b[0m \u001b[1m0s\u001b[0m 318us/step - accuracy: 0.2376 - loss: 0.1826 - val_accuracy: 0.2215 - val_loss: 0.1915\n",
            "Epoch 4/10\n",
            "\u001b[1m924/924\u001b[0m \u001b[32m━━━━━━━━━━━━━━━━━━━━\u001b[0m\u001b[37m\u001b[0m \u001b[1m0s\u001b[0m 316us/step - accuracy: 0.2547 - loss: 0.1805 - val_accuracy: 0.2394 - val_loss: 0.1888\n",
            "Epoch 5/10\n",
            "\u001b[1m924/924\u001b[0m \u001b[32m━━━━━━━━━━━━━━━━━━━━\u001b[0m\u001b[37m\u001b[0m \u001b[1m0s\u001b[0m 318us/step - accuracy: 0.2424 - loss: 0.1802 - val_accuracy: 0.2959 - val_loss: 0.1882\n",
            "Epoch 6/10\n",
            "\u001b[1m924/924\u001b[0m \u001b[32m━━━━━━━━━━━━━━━━━━━━\u001b[0m\u001b[37m\u001b[0m \u001b[1m0s\u001b[0m 316us/step - accuracy: 0.2305 - loss: 0.1836 - val_accuracy: 0.2792 - val_loss: 0.1871\n",
            "Epoch 7/10\n",
            "\u001b[1m924/924\u001b[0m \u001b[32m━━━━━━━━━━━━━━━━━━━━\u001b[0m\u001b[37m\u001b[0m \u001b[1m0s\u001b[0m 337us/step - accuracy: 0.2550 - loss: 0.1805 - val_accuracy: 0.2480 - val_loss: 0.1889\n",
            "Epoch 8/10\n",
            "\u001b[1m924/924\u001b[0m \u001b[32m━━━━━━━━━━━━━━━━━━━━\u001b[0m\u001b[37m\u001b[0m \u001b[1m0s\u001b[0m 337us/step - accuracy: 0.2442 - loss: 0.1784 - val_accuracy: 0.2507 - val_loss: 0.1890\n",
            "Epoch 9/10\n",
            "\u001b[1m924/924\u001b[0m \u001b[32m━━━━━━━━━━━━━━━━━━━━\u001b[0m\u001b[37m\u001b[0m \u001b[1m0s\u001b[0m 340us/step - accuracy: 0.2592 - loss: 0.1775 - val_accuracy: 0.2181 - val_loss: 0.1900\n",
            "Epoch 10/10\n",
            "\u001b[1m924/924\u001b[0m \u001b[32m━━━━━━━━━━━━━━━━━━━━\u001b[0m\u001b[37m\u001b[0m \u001b[1m0s\u001b[0m 328us/step - accuracy: 0.2419 - loss: 0.1794 - val_accuracy: 0.1983 - val_loss: 0.1878\n"
          ]
        }
      ],
      "source": [
        "history = model.fit(X_train, y_train, epochs=10, validation_data=(X_test, y_test))"
      ]
    },
    {
      "cell_type": "code",
      "execution_count": 34,
      "metadata": {},
      "outputs": [
        {
          "name": "stdout",
          "output_type": "stream",
          "text": [
            "163/163 - 0s - 268us/step - accuracy: 0.1983 - loss: 0.1878\n"
          ]
        },
        {
          "data": {
            "image/png": "[encoded data removed]",
            "text/plain": [
              "<Figure size 640x480 with 1 Axes>"
            ]
          },
          "metadata": {},
          "output_type": "display_data"
        }
      ],
      "source": [
        "plt.plot(history.history['accuracy'], label='accuracy')\n",
        "\n",
        "# Val accuracy is the measue of the accuracy on the model of a seperate validation dataset(not used for training) after each epoch\n",
        "# It gives an estimate of how well the model is generalizing to unseen data\n",
        "plt.plot(history.history['val_accuracy'], label='val_accuracy')\n",
        "plt.xlabel('Epoch')\n",
        "plt.ylabel('Accuracy')\n",
        "plt.ylim([0, 1])\n",
        "plt.legend(loc='lower right')\n",
        "\n",
        "test_loss, test_acc = model.evaluate(X_test,  y_test, verbose=2)"
      ]
    },
    {
      "cell_type": "code",
      "execution_count": 35,
      "metadata": {},
      "outputs": [
        {
          "name": "stdout",
          "output_type": "stream",
          "text": [
            "0.19831223785877228\n"
          ]
        }
      ],
      "source": [
        "print(test_acc)"
      ]
    },
    {
      "cell_type": "code",
      "execution_count": null,
      "metadata": {},
      "outputs": [],
      "source": []
    }
  ],
  "metadata": {
    "colab": {
      "provenance": []
    },
    "kernelspec": {
      "display_name": "Python 3",
      "name": "python3"
    },
    "language_info": {
      "codemirror_mode": {
        "name": "ipython",
        "version": 3
      },
      "file_extension": ".py",
      "mimetype": "text/x-python",
      "name": "python",
      "nbconvert_exporter": "python",
      "pygments_lexer": "ipython3",
      "version": "3.12.2"
    }
  },
  "nbformat": 4,
  "nbformat_minor": 0
}
